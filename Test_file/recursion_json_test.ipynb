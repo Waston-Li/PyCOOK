{
 "cells": [
  {
   "cell_type": "code",
   "execution_count": null,
   "metadata": {},
   "outputs": [],
   "source": [
    "import datetime\n",
    "import json\n",
    "import difflib"
   ]
  },
  {
   "cell_type": "code",
   "execution_count": null,
   "metadata": {},
   "outputs": [],
   "source": [
    "ld = {}\n",
    "with open('/Users/Mr_QL/Desktop/local_result.json', 'r', encoding='utf-8') as f:\n",
    "    ld = json.load(f)\n",
    "    print(ld.keys())\n",
    "\n",
    "with open('/Users/Mr_QL/Desktop/scan_result.json', 'r', encoding='utf-8') as f:\n",
    "    scan_data = json.load(f)\n",
    "    print(ld.keys())"
   ]
  },
  {
   "cell_type": "code",
   "execution_count": null,
   "metadata": {},
   "outputs": [],
   "source": [
    "def scan_differences(scan_data, local_data): \n",
    "    diff_add = {}\n",
    "    diff_del= {}\n",
    "    for key in scan_data:\n",
    "        if key in local_data:\n",
    "            if isinstance(scan_data[key], dict) and isinstance(local_data[key], dict):\n",
    "                # 当两个字典的value仍为字典时，递归比较嵌套字典的差异\n",
    "                nested_add, nested_del = scan_differences(scan_data[key], local_data[key])\n",
    "                if nested_add:\n",
    "                    diff_add[key] = nested_add\n",
    "                if nested_del:\n",
    "                    diff_del[key] = nested_del\n",
    "\n",
    "            elif scan_data[key] != local_data[key]:\n",
    "                # 当字典同一个key的value不同时,记录差异内容\n",
    "                diff_add[key] = scan_data[key]\n",
    "                diff_del[key] = local_data[key]\n",
    "        else:\n",
    "            #扫描数据中发现有新增的内容，本地没有\n",
    "            diff_add[key] = scan_data[key]\n",
    "\n",
    "    for key in local_data:\n",
    "        if key not in scan_data:\n",
    "            #扫描数据中缺失了某些本地数据中的内容\n",
    "           diff_del[key] = local_data[key]\n",
    "    return diff_add ,diff_del\n",
    "                "
   ]
  },
  {
   "cell_type": "code",
   "execution_count": null,
   "metadata": {},
   "outputs": [],
   "source": [
    "def diff_str(scan_data, local_data):\n",
    "    d = difflib.Differ()\n",
    "    diff = list(d.compare(scan_data.splitlines(), local_data.splitlines()))\n",
    "    diff_add, diff_del = [], []\n",
    "    for line in diff:\n",
    "        if line.startswith(' '):            #一致内容\n",
    "            continue\n",
    "        elif line.startswith('- '):         #包含在第一个系列行中，但不包含第二个\n",
    "            diff_add.append(line[2:])\n",
    "        elif line.startswith('+ '):         #包含在第二个系列行中，但不包含第一个\n",
    "            diff_del.append(line[2:])\n",
    "    return \", \".join(diff_add), \", \".join(diff_del)"
   ]
  },
  {
   "cell_type": "code",
   "execution_count": null,
   "metadata": {},
   "outputs": [],
   "source": [
    "d = { }\n",
    "for fkey in scan_data.keys():\n",
    "    d[fkey] = {}\n",
    "    if(isinstance(scan_data[fkey],dict)):\n",
    "        for skey in scan_data[fkey].keys():\n",
    "            if(isinstance(scan_data[fkey][skey], dict)):\n",
    "                _add, _del = scan_differences(scan_data[fkey][skey], ld[fkey][skey])\n",
    "                d[fkey][\"add\"+skey] = _add\n",
    "                d[fkey][\"del\"+skey] = _del\n",
    "            elif(scan_data[fkey][skey] != ld[fkey][skey]):\n",
    "                if(isinstance(scan_data[fkey][skey], str)):\n",
    "                    d[fkey][\"add\"+skey], d[fkey][\"del\"+skey] = diff_str(scan_data[fkey][skey], ld[fkey][skey])\n",
    "                else:\n",
    "                    d[fkey][\"add\"+skey] = scan_data[fkey][skey]\n",
    "                    d[fkey][\"del\"+skey] =  ld[fkey][skey]\n",
    "                    \n",
    "            else:\n",
    "                d[fkey][\"add\"+skey] = {}\n",
    "                d[fkey][\"del\"+skey] = {}"
   ]
  }
 ],
 "metadata": {
  "language_info": {
   "name": "python"
  },
  "orig_nbformat": 4
 },
 "nbformat": 4,
 "nbformat_minor": 2
}
