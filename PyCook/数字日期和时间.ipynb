{
 "cells": [
  {
   "attachments": {},
   "cell_type": "markdown",
   "metadata": {},
   "source": [
    "在Python中执行整数和浮点数的数学运算时很简单的。  尽管如此，如果你需要\n",
    "# 执行分数、数组或者是日期和时间的运算的话，就得做更多的工作了。本章集中讨论的就是这些主题。"
   ]
  },
  {
   "attachments": {},
   "cell_type": "markdown",
   "metadata": {},
   "source": [
    "## 3.1 数字的四舍五入"
   ]
  },
  {
   "attachments": {},
   "cell_type": "markdown",
   "metadata": {},
   "source": [
    "想对浮点数执行精度的舍入运算,对于简单的舍入运算使用内置的`round`函数即可"
   ]
  },
  {
   "cell_type": "code",
   "execution_count": 2,
   "metadata": {},
   "outputs": [
    {
     "name": "stdout",
     "output_type": "stream",
     "text": [
      "1.2\n"
     ]
    },
    {
     "data": {
      "text/plain": [
       "1.236"
      ]
     },
     "execution_count": 2,
     "metadata": {},
     "output_type": "execute_result"
    }
   ],
   "source": [
    "print(round(1.23, 1)) #保留1位\n",
    "round(1.23561, 3)"
   ]
  },
  {
   "attachments": {},
   "cell_type": "markdown",
   "metadata": {},
   "source": [
    "当一个值刚好在两个边界的中间的时候， round 函数返回离它最近的偶数。也就 是说，对 1.5 或者 2.5 的舍入运算都会得到 2。\n",
    "传给 round() 函数的 ndigits 参数可以是负数，这种情况下，舍入运算会作用在 十位、百位、千位等上面。比如\n",
    "```python\n",
    "a = 1627730\n",
    "round(a, -2) #1627770 ， 作用在百位上\n",
    "```"
   ]
  },
  {
   "attachments": {},
   "cell_type": "markdown",
   "metadata": {},
   "source": [
    "**不要将舍入和格式化输出搞混淆**了。如果你的目的只是简单的输出一定宽度的数， 你不需要使用 round() 函数。  \n",
    "而仅仅只需要在格式化的时候指定精度即可。比如"
   ]
  },
  {
   "cell_type": "code",
   "execution_count": 6,
   "metadata": {},
   "outputs": [
    {
     "name": "stdout",
     "output_type": "stream",
     "text": [
      "1.23\n"
     ]
    },
    {
     "data": {
      "text/plain": [
       "'value is 1.235'"
      ]
     },
     "execution_count": 6,
     "metadata": {},
     "output_type": "execute_result"
    }
   ],
   "source": [
    "x = 1.23456\n",
    "print(format(x, '0.2f')) #保留2位\n",
    "'value is {:0.3f}'.format(x)  #冒号后面的.f表示将该参数格式化为浮点数，并保留f位小数"
   ]
  },
  {
   "attachments": {},
   "cell_type": "markdown",
   "metadata": {},
   "source": [
    "同样，不要试着去舍入浮点值来” 修正” 表面上看起来正确的问题。比如，你可能 倾向于这样做："
   ]
  },
  {
   "cell_type": "code",
   "execution_count": 12,
   "metadata": {},
   "outputs": [
    {
     "name": "stdout",
     "output_type": "stream",
     "text": [
      "6.300000000000001\n"
     ]
    },
    {
     "data": {
      "text/plain": [
       "6.3"
      ]
     },
     "execution_count": 12,
     "metadata": {},
     "output_type": "execute_result"
    }
   ],
   "source": [
    "a = 2.1 \n",
    "b = 4.2\n",
    "c = a+b\n",
    "print(c)\n",
    "c = round(c, 2) #企图修复\n",
    "c"
   ]
  },
  {
   "attachments": {},
   "cell_type": "markdown",
   "metadata": {},
   "source": [
    "对于大多数使用到浮点的程序，没有必要也不推荐这样做。  \n",
    "尽管在计算的时候会有 一点点小的误差，但是这些小的误差是能被理解与容忍的。如果不能允许这样的小误 差 (比如涉及到金融领域)，  \n",
    "那么就得考虑使用 decimal 模块了，下一节我们会详细讨 论。"
   ]
  },
  {
   "attachments": {},
   "cell_type": "markdown",
   "metadata": {},
   "source": [
    "## 3.2执行精确的浮点数运算"
   ]
  },
  {
   "attachments": {},
   "cell_type": "markdown",
   "metadata": {},
   "source": [
    "需要对浮点数执行精确的计算操作，并且不希望有任何小误差的出现  \n",
    "浮点数的一个普遍问题是它们并不能精确的表示十进制数。并且，即使是最简单的 数学运算也会产生小的误差，比如上述`a+b == 6.3 会返回False`"
   ]
  },
  {
   "attachments": {},
   "cell_type": "markdown",
   "metadata": {},
   "source": [
    "这些错误是由底层 CPU 和 IEEE 754 标准通过自己的浮点单位去执行算术时的特征。  \n",
    "由于 Python 的浮点数据类型使用底层表示存储数据，因此你没办法去避免这样的误差。  \n",
    "如果你想更加精确 (并能容忍一定的性能损耗)，你可以使用 decimal 模块："
   ]
  },
  {
   "cell_type": "code",
   "execution_count": 12,
   "metadata": {},
   "outputs": [
    {
     "data": {
      "text/plain": [
       "Decimal('6.3')"
      ]
     },
     "execution_count": 12,
     "metadata": {},
     "output_type": "execute_result"
    }
   ],
   "source": [
    "from decimal import Decimal\n",
    "a = Decimal('2.1')\n",
    "b = Decimal('4.2')\n",
    "a+b"
   ]
  },
  {
   "attachments": {},
   "cell_type": "markdown",
   "metadata": {},
   "source": [
    "初看起来， 上面的代码好像有点奇怪，比如我们用字符串来表示数字。然而 Decimal 对象会像普通浮点数一样的工作 (支持所有的常用数学运算)。  \n",
    "如果你打印它们或者在字符串格式化函数中使用它们，看起来跟普通数字没什么两样。  \n",
    "decimal模块的一个主要特征是允许你控制计算的每一方面，包括数字位数和四舍五入运算。为了这样做，你先得创建一个本地上下文并更改它的设置，比如："
   ]
  },
  {
   "cell_type": "code",
   "execution_count": 15,
   "metadata": {},
   "outputs": [
    {
     "name": "stdout",
     "output_type": "stream",
     "text": [
      "0.7647058823529411764705882353\n"
     ]
    }
   ],
   "source": [
    "a = Decimal('1.3')\n",
    "b = Decimal('1.7')\n",
    "print( a / b)"
   ]
  },
  {
   "cell_type": "code",
   "execution_count": 17,
   "metadata": {},
   "outputs": [
    {
     "name": "stdout",
     "output_type": "stream",
     "text": [
      "0.765\n"
     ]
    }
   ],
   "source": [
    "from decimal import localcontext\n",
    "with localcontext() as ctx: \n",
    "    ctx.prec = 3 # 四舍五入 保留3位\n",
    "    print(a / b)"
   ]
  },
  {
   "attachments": {},
   "cell_type": "markdown",
   "metadata": {},
   "source": [
    "decimal 模块实现了 IBM 的” 通用小数运算规范”。不用说，有很多的配置选项这 本书没有提到。\n",
    "\n",
    "Python 新手会倾向于使用 decimal 模块来处理浮点数的精确运算。然而，先理解 你的应用程序目的是非常重要的。如果你是在做科学计算或工程领域的计算、电脑绘 图，或者是科学领域的大多数运算，那么使用普通的浮点类型是比较普遍的做法。其 中一个原因是， **在真实世界中很少会要求精确到普通浮点数能提供的 17 位精度**。 因 此，计算过程中的那么一点点的误差是被允许的。第二点就是，原生的浮点数计算要 快的多 有时候你在执行大量运算的时候速度也是非常重要的。\n",
    "\n",
    "即便如此，你却不能完全忽略误差。数学家花了大量时间去研究各类算法，有些处 理误差会比其他方法更好。你也得注意下减法删除 已经大数和小数的加分运算所带来 的影响。比如："
   ]
  },
  {
   "cell_type": "code",
   "execution_count": 18,
   "metadata": {},
   "outputs": [
    {
     "data": {
      "text/plain": [
       "0.0"
      ]
     },
     "execution_count": 18,
     "metadata": {},
     "output_type": "execute_result"
    }
   ],
   "source": [
    "nums = [1.23e+18, 1, -1.23e+18]\n",
    "sum(nums) # Notice how 1 disappears  ？？"
   ]
  },
  {
   "attachments": {},
   "cell_type": "markdown",
   "metadata": {},
   "source": [
    "上面的错误可以利用 math.fsum() 所提供的更精确计算能力来解决："
   ]
  },
  {
   "cell_type": "code",
   "execution_count": 19,
   "metadata": {},
   "outputs": [
    {
     "data": {
      "text/plain": [
       "1.0"
      ]
     },
     "execution_count": 19,
     "metadata": {},
     "output_type": "execute_result"
    }
   ],
   "source": [
    "import math\n",
    "math.fsum(nums)"
   ]
  },
  {
   "attachments": {},
   "cell_type": "markdown",
   "metadata": {},
   "source": [
    "然而，对于其他的算法，你应该仔细研究它并理解它的误差产生来源。  \n",
    "总的来说， decimal 模块主要用在涉及到金融的领域。在这类程序中，哪怕是一点小小的误差在计算过程中蔓延都是不允许的。  \n",
    "因此， decimal 模块为解决这类问题提供了方法。当 Python 和数据库打交道的时候也通常会遇到 Decimal 对象，并且，通常也是在处理金融数据的时候"
   ]
  },
  {
   "attachments": {},
   "cell_type": "markdown",
   "metadata": {},
   "source": [
    "## 3.3数字的格式化输出\n",
    "问题：你需要将数字格式化后输出， 并控制数字的位数、对齐、千位分隔符和其他的细节。\n",
    "格式化输出单个数字的时候，可以使用内置的`format`"
   ]
  },
  {
   "attachments": {},
   "cell_type": "markdown",
   "metadata": {},
   "source": [
    "x = 1234.56789\n",
    "```python\n",
    "# Two decimal places of accuracy\n",
    "format(x, '0.2f')  #'1234.57'\n",
    "\n",
    "# Right justified in 10 chars, one-digit accuracy\n",
    "\n",
    "format(x, '>10.1f') #' 1234.6'\n",
    "\n",
    "# Left justified\n",
    "\n",
    "format(x, '<10.1f') #'1234.6 '\n",
    "\n",
    " # Centered\n",
    "\n",
    "format(x, '^10.1f') #' 1234.6 '\n",
    "\n",
    " # Inclusion of thousands separator 包含千位分隔符\n",
    "\n",
    "format(x, ',') #'1,234.56789'\n",
    "\n",
    "format(x, '0,.1f') #'1,234.6'\n",
    "```"
   ]
  },
  {
   "attachments": {},
   "cell_type": "markdown",
   "metadata": {},
   "source": [
    "如果你想使用指数记法，将 f 改成 e 或者 E(取决于指数输出的大小写形式)。比如：\n",
    "\n",
    "format(x, 'e')    #'1.234568e+03'  \n",
    "format(x, '0.2E')  #'1.23E+03'  \n",
    "同时指定宽度和精度的一般形式是 '[<>ˆ]?width[,]?(.digits)?' ，其中 width 和 digits 为整数，  \n",
    "？代表可选部分。同样的格式也被用在字符串的 format() 方法中。 比如：  \n",
    "`The value is {:0,.2f}'.format(x)`   # 'The value is 1,234.57'"
   ]
  },
  {
   "attachments": {},
   "cell_type": "markdown",
   "metadata": {},
   "source": [
    "## 3.4 二 八 十六进制整数\n",
    "问题：你需要转换或者输出使用二进制，八进制或十六进制表示的整数。  \n",
    "解决方案：为了将整数转换为二进制、八进制或十六进制的文本串，可以分别使用 `bin()` , `oct()` 或 `hex()` 函数："
   ]
  },
  {
   "cell_type": "code",
   "execution_count": 20,
   "metadata": {},
   "outputs": [
    {
     "name": "stdout",
     "output_type": "stream",
     "text": [
      "0b10001\n",
      "0o21\n",
      "0x11\n"
     ]
    }
   ],
   "source": [
    "x = 17\n",
    "print(bin(x))  #不想要0b之类的前缀 可以使用format函数，如 format(x, 'b')\n",
    "print(oct(x))\n",
    "print(hex(x))"
   ]
  },
  {
   "attachments": {},
   "cell_type": "markdown",
   "metadata": {},
   "source": [
    "整数是有符号的，所以如果你在处理负数的话，输出结果会包含一个负号。  \n",
    "如果你想产生一个无符号值，你需要增加一个指示最大位长度的值。比如为了显示 32 位的值，可以像下面这样写："
   ]
  },
  {
   "cell_type": "code",
   "execution_count": 21,
   "metadata": {},
   "outputs": [
    {
     "data": {
      "text/plain": [
       "'11111111111111111111101100101110'"
      ]
     },
     "execution_count": 21,
     "metadata": {},
     "output_type": "execute_result"
    }
   ],
   "source": [
    "x = -1234\n",
    "format(2**32 + x, 'b')"
   ]
  },
  {
   "attachments": {},
   "cell_type": "markdown",
   "metadata": {},
   "source": [
    "为了以不同的**进制 转换 整数字符串**，简单的使用带有进制的 int() 函数即可："
   ]
  },
  {
   "cell_type": "code",
   "execution_count": 24,
   "metadata": {},
   "outputs": [
    {
     "data": {
      "text/plain": [
       "1234"
      ]
     },
     "execution_count": 24,
     "metadata": {},
     "output_type": "execute_result"
    }
   ],
   "source": [
    "int('10011010010', 2)"
   ]
  },
  {
   "attachments": {},
   "cell_type": "markdown",
   "metadata": {},
   "source": [
    "大多数情况下处理二进制、八进制和十六进制整数是很简单的。只要记住这些转换 属于整数和其对应的文本表示之间的转换即可。永远只有一种整数类型  \n",
    "最后，使用八进制的程序员有一点需要注意下。Python 指定八进制数的语法跟其 他语言稍有不同, `os.chmod('xxx.sh', 0o755)`  八进制的前缀是0o"
   ]
  },
  {
   "attachments": {},
   "cell_type": "markdown",
   "metadata": {},
   "source": [
    "## 3.5字节到大整数的打包与解包  \n",
    "问题:你有一个字节字符串并想将它解压成一个整数。或者，你需要将一个大整数转换为 一个字节字符串。  \n",
    "假设你的程序需要处理一个拥有 128 位长的 16 个元素的字节字符串。比如："
   ]
  },
  {
   "cell_type": "code",
   "execution_count": 16,
   "metadata": {},
   "outputs": [
    {
     "name": "stdout",
     "output_type": "stream",
     "text": [
      "16\n",
      "b'\\x00\\x124V\\x00x\\x90\\xab\\x00\\xcd\\xef\\x01\\x00#\\x004'\n"
     ]
    }
   ],
   "source": [
    "xdata = b'\\x00\\x124V\\x00x\\x90\\xab\\x00\\xcd\\xef\\x01\\x00#\\x004' # \\x 值为16位16进制的字符\n",
    "print(len(xdata))\n",
    "print(xdata)"
   ]
  },
  {
   "attachments": {},
   "cell_type": "markdown",
   "metadata": {},
   "source": [
    "为了将 bytes 解析为整数，使用 int.from bytes() 方法，并像下面这样指定字节 顺序"
   ]
  },
  {
   "cell_type": "code",
   "execution_count": 30,
   "metadata": {},
   "outputs": [
    {
     "name": "stdout",
     "output_type": "stream",
     "text": [
      "69120565665751139577663547927094891008\n",
      "94522842520747284487117727783387188\n"
     ]
    }
   ],
   "source": [
    "print(int.from_bytes(xdata, 'little'))\n",
    "print(int.from_bytes(xdata, 'big'))"
   ]
  },
  {
   "attachments": {},
   "cell_type": "markdown",
   "metadata": {},
   "source": [
    "为了将一个大整数转换为一个字节字符串，使用 int.to bytes() 方法，并像下面 这样指定字节数和字节顺序：\n"
   ]
  },
  {
   "cell_type": "code",
   "execution_count": 17,
   "metadata": {},
   "outputs": [
    {
     "name": "stdout",
     "output_type": "stream",
     "text": [
      "b'\\x00\\x124V\\x00x\\x90\\xab\\x00\\xcd\\xef\\x01\\x00#\\x004'\n"
     ]
    },
    {
     "data": {
      "text/plain": [
       "b'4\\x00#\\x00\\x01\\xef\\xcd\\x00\\xab\\x90x\\x00V4\\x12\\x00'"
      ]
     },
     "execution_count": 17,
     "metadata": {},
     "output_type": "execute_result"
    }
   ],
   "source": [
    "x = 94522842520747284487117727783387188\n",
    "print(x.to_bytes(16, 'big'))\n",
    "x.to_bytes(16, 'little')"
   ]
  },
  {
   "attachments": {},
   "cell_type": "markdown",
   "metadata": {},
   "source": [
    "大整数和字节字符串之间的转换操作并不常见。然而，在一些应用领域有时候也会 出现，比如密码学或者`网络`。例如，`IPv6 网络地址使用一个 128 位的整数表示。如果 你要从一个数据记录中提取这样的值的时候`，你就会面对这样的问题。  \n",
    "作为一种替代方案，你可能想使用 6.11 小节中所介绍的 struct 模块来解压字节。 这样也行得通，不过利用 struct 模块来解压对于整数的大小是有限制的。因此，你可 能想解压多个字节串并将结果合并为最终的结果，就像下面这样："
   ]
  },
  {
   "cell_type": "code",
   "execution_count": 32,
   "metadata": {},
   "outputs": [
    {
     "data": {
      "text/plain": [
       "94522842520747284487117727783387188"
      ]
     },
     "execution_count": 32,
     "metadata": {},
     "output_type": "execute_result"
    }
   ],
   "source": [
    "import struct\n",
    "hi, lo = struct.unpack('>QQ', xdata)\n",
    "(hi << 64) + lo"
   ]
  },
  {
   "attachments": {},
   "cell_type": "markdown",
   "metadata": {},
   "source": [
    "字节顺序规则 (little 或 big) 仅仅指定了构建整数时的字节的低位高位排列方式。  \n",
    " 我们从下面精心构造的 16 进制数的表示中可以很容易的看出来："
   ]
  },
  {
   "cell_type": "code",
   "execution_count": 34,
   "metadata": {},
   "outputs": [
    {
     "name": "stdout",
     "output_type": "stream",
     "text": [
      "b'\\x01\\x02\\x03\\x04'\n",
      "b'\\x04\\x03\\x02\\x01'\n"
     ]
    }
   ],
   "source": [
    "x = 0x01020304\n",
    "print(x.to_bytes(4, 'big'))\n",
    "print(x.to_bytes(4, 'little'))"
   ]
  },
  {
   "attachments": {},
   "cell_type": "markdown",
   "metadata": {},
   "source": [
    "如果你试着将一个整数打包为字节字符串， 那么它就不合适了， 你会得到一个错 误。  \n",
    "如果需要的话，你可以使用 int.bit length() 方法来决定需要多少字节位来存储 这个值。"
   ]
  },
  {
   "attachments": {},
   "cell_type": "markdown",
   "metadata": {},
   "source": [
    "## 3.6 复数的数学运算\n",
    "问题：你写的最新的网络认证方案代码遇到了一个难题，并且你唯一的解决办法就是使用复数空间。  \n",
    "再或者是你仅仅需要使用复数来执行一些计算操作。  \n",
    "复数可以用使用函数 complex(real, imag)或者是带有后缀j的浮点数来指定。 "
   ]
  },
  {
   "cell_type": "code",
   "execution_count": 36,
   "metadata": {},
   "outputs": [
    {
     "name": "stdout",
     "output_type": "stream",
     "text": [
      "(2+4j) (3-5j)\n"
     ]
    }
   ],
   "source": [
    "a = complex(2, 4)\n",
    "b = 3 - 5j\n",
    "print(a, b)"
   ]
  },
  {
   "attachments": {},
   "cell_type": "markdown",
   "metadata": {},
   "source": [
    "对应的实部、虚部和共轭复数可以很容易的获取。就像下面这样："
   ]
  },
  {
   "cell_type": "code",
   "execution_count": 38,
   "metadata": {},
   "outputs": [
    {
     "name": "stdout",
     "output_type": "stream",
     "text": [
      "2.0 4.0\n"
     ]
    },
    {
     "data": {
      "text/plain": [
       "(2-4j)"
      ]
     },
     "execution_count": 38,
     "metadata": {},
     "output_type": "execute_result"
    }
   ],
   "source": [
    "print(a.real, a.imag)\n",
    "a.conjugate()"
   ]
  },
  {
   "cell_type": "markdown",
   "metadata": {},
   "source": [
    "Python 中大部分与数学相关的模块都能处理复数。比如如果你使用 numpy，可以 很容易的构造一个复数数组并在这个数组上执行各种操作："
   ]
  },
  {
   "cell_type": "code",
   "execution_count": 20,
   "metadata": {},
   "outputs": [
    {
     "data": {
      "text/plain": [
       "array([2.+3.j, 4.+5.j, 6.-7.j, 8.+9.j])"
      ]
     },
     "execution_count": 20,
     "metadata": {},
     "output_type": "execute_result"
    }
   ],
   "source": [
    "import numpy as np\n",
    "a = np.array([2+3j, 4+5j, 6-7j, 8+9j])\n",
    "a"
   ]
  },
  {
   "cell_type": "code",
   "execution_count": 22,
   "metadata": {},
   "outputs": [
    {
     "name": "stdout",
     "output_type": "stream",
     "text": [
      "[ 4.+3.j  6.+5.j  8.-7.j 10.+9.j]\n"
     ]
    },
    {
     "data": {
      "text/plain": [
       "array([   9.15449915  -4.16890696j,  -56.16227422 -48.50245524j,\n",
       "       -153.20827755-526.47684926j, 4008.42651446-589.49948373j])"
      ]
     },
     "execution_count": 22,
     "metadata": {},
     "output_type": "execute_result"
    }
   ],
   "source": [
    "print(a+2)\n",
    "np.sin(a)"
   ]
  },
  {
   "cell_type": "markdown",
   "metadata": {},
   "source": [
    "## 3.7 无穷大与 NaN\n",
    "问题：你想创建或测试正无穷、负无穷或 NaN(非数字) 的浮点数。  \n",
    "Python 并没有特殊的语法来表示这些特殊的浮点值，但是可以使用 float() 来创 建它们。"
   ]
  },
  {
   "cell_type": "code",
   "execution_count": 27,
   "metadata": {},
   "outputs": [
    {
     "data": {
      "text/plain": [
       "float"
      ]
     },
     "execution_count": 27,
     "metadata": {},
     "output_type": "execute_result"
    }
   ],
   "source": [
    "a = float('inf')\n",
    "b = float('-inf')\n",
    "c = float('nan')\n",
    "type(a)"
   ]
  },
  {
   "cell_type": "code",
   "execution_count": 37,
   "metadata": {},
   "outputs": [
    {
     "data": {
      "text/plain": [
       "'False, True'"
      ]
     },
     "execution_count": 37,
     "metadata": {},
     "output_type": "execute_result"
    }
   ],
   "source": [
    "'{0}, {1}'.format(1.1 > a, 1 > b)\n",
    "##  测试这些值的存在，使用 math.isinf() 和 math.isnan() 函数\n",
    "# math.isinf(a)\n",
    "# math.isnan(c)"
   ]
  },
  {
   "cell_type": "markdown",
   "metadata": {},
   "source": [
    "有一些地方需要你特别注意，特别是跟**比较和操作符**相关的时候  \n",
    "- 无穷大数在执行数学计算的时候会传播\n",
    "- NaN 值会在所有操作中传播，而不会产生异常"
   ]
  },
  {
   "cell_type": "code",
   "execution_count": 39,
   "metadata": {},
   "outputs": [
    {
     "name": "stdout",
     "output_type": "stream",
     "text": [
      "inf\n",
      "nan\n"
     ]
    }
   ],
   "source": [
    "# 无穷大数在执行数学计算的时候会传播\n",
    "print(a + 45)\n",
    "# NaN 值会在所有操作中传播，而不会产生异常\n",
    "print(c + 45)"
   ]
  },
  {
   "cell_type": "markdown",
   "metadata": {},
   "source": [
    "NaN值的一个特别的地方时它们之间的比较操作总是返回 False\n",
    "由于这个原因，测试一个 NaN 值得唯一安全的方法就是使用 math.isnan(),也就是上面演示的那样。  \n",
    "有时候程序员**想改变 Python 默认行为，在返回无穷大或 NaN 结果的操作中抛出异常**。   \n",
    "fpectl 模块可以用来改变这种行为，但是它在标准的 Python 构建中并没有被 启用，它是平台相关的，并且针对的是专家级程序员。可以参考在线的 Python 文档获 取更多的细节。"
   ]
  },
  {
   "cell_type": "code",
   "execution_count": 40,
   "metadata": {},
   "outputs": [
    {
     "data": {
      "text/plain": [
       "False"
      ]
     },
     "execution_count": 40,
     "metadata": {},
     "output_type": "execute_result"
    }
   ],
   "source": [
    "# NaN值的一个特别的地方时它们之间的比较操作总是返回 False\n",
    "d = float('nan')\n",
    "c ==d "
   ]
  },
  {
   "cell_type": "markdown",
   "metadata": {},
   "source": [
    "## 3.8 分数运算\n",
    "问题: 你进入时间机器，突然发现你正在做小学家庭作业，并涉及到分数计算问题。或者你可能需要写代码去计算在你的木工工厂中的测量值。  \n",
    "`fractions`模块可以被用来执行包含分数的数学运算。"
   ]
  },
  {
   "cell_type": "code",
   "execution_count": 42,
   "metadata": {},
   "outputs": [
    {
     "name": "stdout",
     "output_type": "stream",
     "text": [
      "27/16\n",
      "5\n",
      "4\n"
     ]
    },
    {
     "data": {
      "text/plain": [
       "1.25"
      ]
     },
     "execution_count": 42,
     "metadata": {},
     "output_type": "execute_result"
    }
   ],
   "source": [
    "from fractions import Fraction\n",
    "a = Fraction(5, 4)\n",
    "b = Fraction(7, 16)\n",
    "print(a + b)\n",
    "\n",
    "print(a.numerator) #分子\n",
    "print(a.denominator) #分母\n",
    "float(a) "
   ]
  },
  {
   "cell_type": "code",
   "execution_count": 44,
   "metadata": {},
   "outputs": [
    {
     "data": {
      "text/plain": [
       "Fraction(15, 4)"
      ]
     },
     "execution_count": 44,
     "metadata": {},
     "output_type": "execute_result"
    }
   ],
   "source": [
    "\n",
    "# 浮点数转换为分数\n",
    "x = 3.75\n",
    "y = Fraction(*x.as_integer_ratio())\n",
    "y"
   ]
  },
  {
   "cell_type": "markdown",
   "metadata": {},
   "source": [
    "在大多数程序中一般不会出现分数的计算问题， 但是有时候还是需要用到的。 比如，在一个允许接受分数形式的测试单位并以分数形式执行运算的程序中，直接使用 分数可以减少手动转换为小数或浮点数的工作。"
   ]
  },
  {
   "cell_type": "markdown",
   "metadata": {},
   "source": [
    "## 3.9大型数组运算\n",
    "问题：你需要在大数据集 (比如数组或网格) 上面执行计算  \n",
    "涉及到数组的重量级运算操作，可以使用 NumPy 库。   \n",
    "NumPy 的一个主要特征是它会给 Python 提供一个数组对象， 相比标准的 Python 列表而已更适合用来做数学运算。下面是一个简单的小例子，向你展示标准列表对象和 NumPy 数组对象之间的差别："
   ]
  },
  {
   "cell_type": "code",
   "execution_count": 50,
   "metadata": {},
   "outputs": [
    {
     "name": "stdout",
     "output_type": "stream",
     "text": [
      "[1, 2, 3, 4, 1, 2, 3, 4]\n",
      "[1, 2, 3, 4, 5, 6, 7, 8]\n"
     ]
    },
    {
     "ename": "TypeError",
     "evalue": "can only concatenate list (not \"int\") to list",
     "output_type": "error",
     "traceback": [
      "\u001b[0;31m---------------------------------------------------------------------------\u001b[0m",
      "\u001b[0;31mTypeError\u001b[0m                                 Traceback (most recent call last)",
      "\u001b[1;32m/Users/Mr_QL/Documents/IT_learn/python_learn/PyCookbook实践/PyCOOK/PyCook/数字日期和时间.ipynb 单元格 63\u001b[0m line \u001b[0;36m5\n\u001b[1;32m      <a href='vscode-notebook-cell:/Users/Mr_QL/Documents/IT_learn/python_learn/PyCookbook%E5%AE%9E%E8%B7%B5/PyCOOK/PyCook/%E6%95%B0%E5%AD%97%E6%97%A5%E6%9C%9F%E5%92%8C%E6%97%B6%E9%97%B4.ipynb#Y136sZmlsZQ%3D%3D?line=2'>3</a>\u001b[0m \u001b[39mprint\u001b[39m(x \u001b[39m*\u001b[39m \u001b[39m2\u001b[39m) \u001b[39m#并不是组内的数运算\u001b[39;00m\n\u001b[1;32m      <a href='vscode-notebook-cell:/Users/Mr_QL/Documents/IT_learn/python_learn/PyCookbook%E5%AE%9E%E8%B7%B5/PyCOOK/PyCook/%E6%95%B0%E5%AD%97%E6%97%A5%E6%9C%9F%E5%92%8C%E6%97%B6%E9%97%B4.ipynb#Y136sZmlsZQ%3D%3D?line=3'>4</a>\u001b[0m \u001b[39mprint\u001b[39m(x \u001b[39m+\u001b[39m y) \u001b[39m#数组的拼接\u001b[39;00m\n\u001b[0;32m----> <a href='vscode-notebook-cell:/Users/Mr_QL/Documents/IT_learn/python_learn/PyCookbook%E5%AE%9E%E8%B7%B5/PyCOOK/PyCook/%E6%95%B0%E5%AD%97%E6%97%A5%E6%9C%9F%E5%92%8C%E6%97%B6%E9%97%B4.ipynb#Y136sZmlsZQ%3D%3D?line=4'>5</a>\u001b[0m x \u001b[39m+\u001b[39m \u001b[39m10\u001b[39m\n",
      "\u001b[0;31mTypeError\u001b[0m: can only concatenate list (not \"int\") to list"
     ]
    }
   ],
   "source": [
    "x = [1, 2, 3, 4]\n",
    "y = [5, 6, 7, 8]\n",
    "print(x * 2) #并不是组内的数运算\n",
    "print(x + y) #数组的拼接\n",
    "x + 10 #错误"
   ]
  },
  {
   "cell_type": "code",
   "execution_count": 49,
   "metadata": {},
   "outputs": [
    {
     "name": "stdout",
     "output_type": "stream",
     "text": [
      "[2 4 6 8] [11 12 13 14]\n"
     ]
    }
   ],
   "source": [
    "ax = np.array(x)\n",
    "ay = np.array(y)\n",
    "print(ax * 2, ax +10)"
   ]
  },
  {
   "cell_type": "markdown",
   "metadata": {},
   "source": [
    "正如所见，两种方案中数组的基本数学运算结果并不相同。  \n",
    "特别的， NumPy 中的标 量运算 (比如 ax * 2 或 ax + 10 ) **会作用在每一个元素上**。  \n",
    "另外，当两个操作数都是数组的时候执行元素对等位置计算，并最终生成一个新的数组。"
   ]
  },
  {
   "cell_type": "markdown",
   "metadata": {},
   "source": [
    "对整个数组中**所有元素同时执行数学**运算可以使得作用在整个数组上的函数运算简单而又快速。比如，如果你想计算多项式的值，可以这样做"
   ]
  },
  {
   "cell_type": "code",
   "execution_count": 58,
   "metadata": {},
   "outputs": [
    {
     "data": {
      "text/plain": [
       "array([ 2,  9, 22, 41])"
      ]
     },
     "execution_count": 58,
     "metadata": {},
     "output_type": "execute_result"
    }
   ],
   "source": [
    "def f(x):   ## 传入np.array\n",
    "    return 3*x**2 - 2*x + 1\n",
    "f(ax)"
   ]
  },
  {
   "cell_type": "markdown",
   "metadata": {},
   "source": [
    "numPy 还为数组操作提供了大量的通用函数，这些函数可以作为 math 模块中类似 函数的替代  \n",
    "```np.sqrt(ax)```  \n",
    "`使用这些通用函数要比循环数组并使用 math 模块中的函数执行计算要快的多`。因此，只要有可能的话尽量选择 NumPy 的数组方案。\n",
    "\n",
    "底层实现中， NumPy 数组使用了 C 或者 Fortran 语言的机制分配内存。也就是说， 它们是一个非常大的连续的并由同类型数据组成的内存区域。所以，你可以构造一个比普通 Python 列表大的多的数组。比如，如果你想构造一个 10,000*10,000 的浮点数二维网格，很轻松"
   ]
  },
  {
   "cell_type": "code",
   "execution_count": 60,
   "metadata": {},
   "outputs": [
    {
     "data": {
      "text/plain": [
       "array([[0., 0., 0., ..., 0., 0., 0.],\n",
       "       [0., 0., 0., ..., 0., 0., 0.],\n",
       "       [0., 0., 0., ..., 0., 0., 0.],\n",
       "       ...,\n",
       "       [0., 0., 0., ..., 0., 0., 0.],\n",
       "       [0., 0., 0., ..., 0., 0., 0.],\n",
       "       [0., 0., 0., ..., 0., 0., 0.]])"
      ]
     },
     "execution_count": 60,
     "metadata": {},
     "output_type": "execute_result"
    }
   ],
   "source": [
    "grid = np.zeros(shape=(10000,10000), dtype=float)\n",
    "grid"
   ]
  },
  {
   "cell_type": "code",
   "execution_count": 66,
   "metadata": {},
   "outputs": [
    {
     "data": {
      "text/plain": [
       "array([[10., 10., 10., ..., 10., 10., 10.],\n",
       "       [10., 10., 10., ..., 10., 10., 10.],\n",
       "       [10., 10., 10., ..., 10., 10., 10.],\n",
       "       ...,\n",
       "       [10., 10., 10., ..., 10., 10., 10.],\n",
       "       [10., 10., 10., ..., 10., 10., 10.],\n",
       "       [10., 10., 10., ..., 10., 10., 10.]])"
      ]
     },
     "execution_count": 66,
     "metadata": {},
     "output_type": "execute_result"
    }
   ],
   "source": [
    "# 所有的普通操作还是会同时作用在所有元素上\n",
    "grid + 10"
   ]
  },
  {
   "cell_type": "markdown",
   "metadata": {},
   "source": [
    "关于 NumPy 有一点需要特别的主意，那就是它扩展 Python 列表的索引功能 - 特别 是对于多维数组。为了说明清楚，先构造一个简单的二维数组并试着做些试验"
   ]
  },
  {
   "cell_type": "code",
   "execution_count": 73,
   "metadata": {},
   "outputs": [
    {
     "name": "stdout",
     "output_type": "stream",
     "text": [
      "[[ 1  2  3  4]\n",
      " [ 5  6  7  8]\n",
      " [ 9 10 11 12]]\n",
      "[1 2 3 4]\n",
      "[ 2  6 10]\n"
     ]
    }
   ],
   "source": [
    "a = np.array([[1, 2, 3, 4], [5, 6, 7, 8], [9, 10, 11, 12]])\n",
    "print(a)\n",
    "\n",
    "print(a[0]) # 选择第1行\n",
    "print(a[:, 1]) #选择第2列"
   ]
  },
  {
   "cell_type": "code",
   "execution_count": 74,
   "metadata": {},
   "outputs": [
    {
     "name": "stdout",
     "output_type": "stream",
     "text": [
      "[[   11   102  1003 10004]\n",
      " [   15   106  1007 10008]\n",
      " [   19   110  1011 10012]]\n"
     ]
    }
   ],
   "source": [
    "print(a + [10, 100, 1000, 10000]) #在所有行的操作中 广播行向量"
   ]
  },
  {
   "cell_type": "code",
   "execution_count": null,
   "metadata": {},
   "outputs": [],
   "source": [
    "np.where(a < 10, a, 10) #在数组上的条件赋值"
   ]
  },
  {
   "cell_type": "markdown",
   "metadata": {},
   "source": [
    "## 3.10 矩阵与线性代数运算\n",
    "问题：你需要执行矩阵和线性代数运算，比如矩阵乘法、寻找行列式、求解线性方程组等。  \n",
    "NumPy 库有一个矩阵对象可以用来解决这个问题。\n",
    "矩阵类似于 3.9 小节中数组对象，但是遵循线性代数的计算规则。下面的一个例子 展示了矩阵的一些基本特性"
   ]
  },
  {
   "cell_type": "code",
   "execution_count": 77,
   "metadata": {},
   "outputs": [
    {
     "data": {
      "text/plain": [
       "matrix([[ 1, -2,  3],\n",
       "        [ 0,  4,  5],\n",
       "        [ 7,  8, -9]])"
      ]
     },
     "execution_count": 77,
     "metadata": {},
     "output_type": "execute_result"
    }
   ],
   "source": [
    "m = np.matrix([[1,-2,3],[0,4,5],[7,8,-9]])                                                                                                                                                                                                                                                                                                                                                                                                                                                                                                                                                                                                                                                                                                                                                                                                                                                                                                                                                                                                                                                                                                                                                                                                                                                                                                                                                                                                                                                                                                                                                                                                                                                                                                                                                                                                                                                                                                                                                                                                                                                                                                                                                                                                                                                                                                                                                                                                                                                                                                                                                                                                                                                                                                                                                                                                                                                                                   \n",
    "m"
   ]
  },
  {
   "cell_type": "code",
   "execution_count": 78,
   "metadata": {},
   "outputs": [
    {
     "data": {
      "text/plain": [
       "matrix([[ 1,  0,  7],\n",
       "        [-2,  4,  8],\n",
       "        [ 3,  5, -9]])"
      ]
     },
     "execution_count": 78,
     "metadata": {},
     "output_type": "execute_result"
    }
   ],
   "source": [
    "m.T #转置"
   ]
  },
  {
   "cell_type": "markdown",
   "metadata": {},
   "source": [
    "## 3.11 随机选择\n",
    "问题：你想从一个序列中随机抽取若干元素，或者想生成几个随机数。  \n",
    "`random`模块有大量的函数用来产生随机数和随机选择元素。比如，要想从一个序列中随机的抽取一个元素，可以使用 `random.choice()`"
   ]
  },
  {
   "cell_type": "code",
   "execution_count": 79,
   "metadata": {},
   "outputs": [
    {
     "data": {
      "text/plain": [
       "1"
      ]
     },
     "execution_count": 79,
     "metadata": {},
     "output_type": "execute_result"
    }
   ],
   "source": [
    "import random\n",
    "values = [1, 2, 3, 4, 5, 6]\n",
    "random.choice(values)"
   ]
  },
  {
   "cell_type": "code",
   "execution_count": 81,
   "metadata": {},
   "outputs": [
    {
     "data": {
      "text/plain": [
       "4"
      ]
     },
     "execution_count": 81,
     "metadata": {},
     "output_type": "execute_result"
    }
   ],
   "source": [
    "random.choice(values)"
   ]
  },
  {
   "cell_type": "markdown",
   "metadata": {},
   "source": [
    "为了提取出 N 个不同元素的样本用来做进一步的操作，可以使用 `random.sample()`"
   ]
  },
  {
   "cell_type": "code",
   "execution_count": 82,
   "metadata": {},
   "outputs": [
    {
     "data": {
      "text/plain": [
       "[3, 5]"
      ]
     },
     "execution_count": 82,
     "metadata": {},
     "output_type": "execute_result"
    }
   ],
   "source": [
    "random.sample(values, 2)"
   ]
  },
  {
   "cell_type": "markdown",
   "metadata": {},
   "source": [
    "打乱序列中元素的顺序，可以使用`random.shuffle()`  \n",
    "生成随机整数，使用`random.randint()`"
   ]
  },
  {
   "cell_type": "code",
   "execution_count": 87,
   "metadata": {},
   "outputs": [
    {
     "data": {
      "text/plain": [
       "8"
      ]
     },
     "execution_count": 87,
     "metadata": {},
     "output_type": "execute_result"
    }
   ],
   "source": [
    "random.randint(0,10)\n",
    "#生成 0 到 1 范围内均匀分布的浮点数，使用 random.random()"
   ]
  },
  {
   "cell_type": "markdown",
   "metadata": {},
   "source": [
    "random 模块使用 Mersenne Twister 算法来计算生成随机数。  \n",
    "这是一个**确定性算法**， 但是你可以通过`random.seed()`函数修改初始化种子。比如\n",
    "```python\n",
    "random.seed() # Seed based on system time or os.urandom() \n",
    "random.seed(12345) # Seed based on integer given\n",
    "```\n",
    "除了上述介绍的功能，random 模块还包含基于均匀分布、高斯分布和其他分布的 随机数生成函数。  \n",
    "比如， `random.uniform() `计算均匀分布随机数， `random.gauss()` 计算正态分布随机数。对于其他的分布情况请参考在线文档。\n",
    "在 random 模块中的函数不应该用在和密码学相关的程序中。如果你确实需要类似 的功能，可以使用 ssl 模块中相应的函数。比如， ssl.RAND bytes() 可以用来生成一 个安全的随机字节序列。"
   ]
  },
  {
   "cell_type": "markdown",
   "metadata": {},
   "source": [
    "## 3.12 基本的日期与时间转换\n",
    "问题:你需要执行简单的时间转换，比如天到秒，小时到分钟等的转换。  \n",
    "为了执行不同时间单位的转换和计算，请使用 datetime 模块。  \n",
    "如果你想表示指定的日期和时间，先创建一个 datetime 实例然后使用标准的数学 运算来操作它们。比如："
   ]
  },
  {
   "cell_type": "code",
   "execution_count": 114,
   "metadata": {},
   "outputs": [],
   "source": [
    "import time\n",
    "from datetime import timedelta,date\n",
    "from datetime import datetime\n",
    "#a = timedelta(days=2, hours=6)"
   ]
  },
  {
   "cell_type": "code",
   "execution_count": 101,
   "metadata": {},
   "outputs": [
    {
     "name": "stdout",
     "output_type": "stream",
     "text": [
      "2012-10-03 00:00:00\n"
     ]
    }
   ],
   "source": [
    "a = datetime(2012, 9, 23)\n",
    "print(a + timedelta(days=10))"
   ]
  },
  {
   "cell_type": "code",
   "execution_count": 102,
   "metadata": {},
   "outputs": [
    {
     "data": {
      "text/plain": [
       "89"
      ]
     },
     "execution_count": 102,
     "metadata": {},
     "output_type": "execute_result"
    }
   ],
   "source": [
    "b = datetime(2012, 12, 21)\n",
    "d = b - a\n",
    "d.days      #算间隔天数，且datetime 会自动处理闰年"
   ]
  },
  {
   "cell_type": "code",
   "execution_count": 107,
   "metadata": {},
   "outputs": [
    {
     "name": "stdout",
     "output_type": "stream",
     "text": [
      "2023-11-03 11:11:04.272090\n",
      "2023-11-03 11:41:04.272090\n"
     ]
    }
   ],
   "source": [
    "now = datetime.today()          #注：  time.time()返回的是unix时间\n",
    "print(now)\n",
    "print(now + timedelta(minutes=30))      "
   ]
  },
  {
   "cell_type": "markdown",
   "metadata": {},
   "source": [
    "对大多数基本的日期和时间处理问题， datetime 模块以及足够了。如果你需要执 行更加复杂的日期操作，比如处理时区，模糊时间范围，节假日计算等等，可以考虑 使用`dateutil`模块\n",
    "许多类似的时间计算可以使用 dateutil.relativedelta() 函数代替。但是，有一 点需要注意的就是，它会在处理月份 (还有它们的天数差距) 的时候填充间隙。见PDF"
   ]
  },
  {
   "cell_type": "markdown",
   "metadata": {},
   "source": [
    "## 3.13 计算最后一个周五的日期\n",
    "问题：你需要查找星期中某一天最后出现的日期，比如星期五  \n",
    "算法原理是这样的：先将开始日期和目标日期映射到星期数组的位置上 (星 期一索引为 0)，  \n",
    "然后通过模运算计算出目标日期要经过多少天才能到达开始日期。  \n",
    "然后用开始日期减去那个时间差即得到结果日期。"
   ]
  },
  {
   "cell_type": "code",
   "execution_count": 112,
   "metadata": {},
   "outputs": [],
   "source": [
    "weekdays = ['Monday', 'Tuesday', 'Wednesday', 'Thursday', 'Friday', 'Saturday', 'Sunday']\n",
    "\n",
    "def get_previous_byday(dayname, start_date=None):\n",
    "    if start_date is None:\n",
    "        start_date = datetime.today() \n",
    "\n",
    "    day_num = start_date.weekday() #该日期是星期几\n",
    "    day_num_target = weekdays.index(dayname) #找到匹配value的第一个所以\n",
    "\n",
    "    days_ago = (7 + day_num - day_num_target) % 7 \n",
    "    if days_ago == 0:\n",
    "        days_ago = 7 \n",
    "    target_date = start_date - timedelta(days=days_ago) \n",
    "    return target_date"
   ]
  },
  {
   "cell_type": "code",
   "execution_count": 113,
   "metadata": {},
   "outputs": [
    {
     "data": {
      "text/plain": [
       "datetime.datetime(2023, 10, 30, 14, 22, 28, 40860)"
      ]
     },
     "execution_count": 113,
     "metadata": {},
     "output_type": "execute_result"
    }
   ],
   "source": [
    "get_previous_byday('Monday')"
   ]
  },
  {
   "cell_type": "markdown",
   "metadata": {},
   "source": [
    "如果你要像这样执行大量的日期计算的话，你最好安装第三方包 python-dateutil 来代替。比如，使用 `dateutil`模块中的 relativedelta() 函数执行同样的计算"
   ]
  },
  {
   "cell_type": "markdown",
   "metadata": {},
   "source": [
    "## 3.14 计算当前月份的日期范围\n",
    "问题：你的代码需要在当前月份中循环每一天， 想找到一个计算这个日期范围的高效方法。"
   ]
  },
  {
   "cell_type": "markdown",
   "metadata": {},
   "source": [
    "在这样的日期上循环并需要事先构造一个包含所有日期的列表。你可以先计算出开始日期和结束日期，   \n",
    "然后在你步进的时候使用 datetime.timedelta 对象递增这个日期变量即可。  \n",
    "下面是一个接受任意 datetime 对象并**返回一个由当前月份开始日和下个月开始日 组成的元组对象**。"
   ]
  },
  {
   "cell_type": "code",
   "execution_count": 115,
   "metadata": {},
   "outputs": [],
   "source": [
    "import calendar\n",
    "def get_month_range(start_date=None):\n",
    "    if start_date is None:\n",
    "        start_date = date.today().replace(day=1)\n",
    "\n",
    "    _, days_in_month = calendar.monthrange(start_date.year, start_date.month) \n",
    "    end_date = start_date + timedelta(days=days_in_month)\n",
    "    return (start_date, end_date)"
   ]
  },
  {
   "cell_type": "code",
   "execution_count": 122,
   "metadata": {},
   "outputs": [],
   "source": [
    "day = timedelta(days=1)\n",
    "first_day, last_day = get_month_range()\n",
    "while first_day < last_day: \n",
    "    print(first_day)\n",
    "    first_day += day"
   ]
  },
  {
   "cell_type": "markdown",
   "metadata": {},
   "source": [
    "上面的代码先计算出一个对应月份第一天的日期。一个快速的方法就是使用 date 或 `datetime 对象的 replace()` 方法简单的将 days 属性设置成 1 即可。  \n",
    "replace() 方法一个好处就是它会创建和你开始传入对象类型相同的对象。所以，如果输入参数 是一个 date 实例，那么结果也是一个 date 实例。同样的，如果输入是一个 datetime 实例，那么你得到的就是一个 datetime 实例。  \n",
    "然后，使用`calendar.monthrange()` 函数来找出该月的总天数。任何时候只要你 **想获得日历信息，那么 calendar 模块**就非常有用了。 monthrange() 函数会返回包含星期和该月天数的元组。"
   ]
  },
  {
   "cell_type": "markdown",
   "metadata": {},
   "source": [
    "为了在日期范围上循环， 要使用到标准的数学和比较操作。 比如， 可以利用 timedelta 实例来递增日期，小于号< 用来检查一个日期是否在结束日期之前。\n",
    "理想情况下，如果能为日期迭代创建一个同内置的 range() 函数一样的函数就好 了。幸运的是，可以使用一个生成器来很容易的实现这个目标："
   ]
  },
  {
   "cell_type": "code",
   "execution_count": null,
   "metadata": {},
   "outputs": [],
   "source": [
    "def date_range(start, stop, step):\n",
    "    while start < stop:\n",
    "        yield start \n",
    "        start += step "
   ]
  },
  {
   "cell_type": "code",
   "execution_count": null,
   "metadata": {},
   "outputs": [],
   "source": [
    "for d in date_range(datetime(2012, 9, 1), datetime(2012,10,1), timedelta(hours=6)):\n",
    "    print(d)"
   ]
  },
  {
   "cell_type": "markdown",
   "metadata": {},
   "source": [
    "## 3.15 字符串转换为日期\n",
    "问题 : 你的应用程序接受字符串格式的输入，但是你想将它们转换为 datetime 对象以便 在上面执行非字符串操作。  \n",
    "使用 Python 的标准模块 datetime 可以很容易的解决这个问题"
   ]
  },
  {
   "cell_type": "code",
   "execution_count": 128,
   "metadata": {},
   "outputs": [
    {
     "data": {
      "text/plain": [
       "14"
      ]
     },
     "execution_count": 128,
     "metadata": {},
     "output_type": "execute_result"
    }
   ],
   "source": [
    "text = '2023-10-20'\n",
    "y = datetime.strptime(text, '%Y-%m-%d')\n",
    "x = datetime.now()\n",
    "(x - y).days"
   ]
  },
  {
   "cell_type": "markdown",
   "metadata": {},
   "source": [
    "datetime.strptime() 方法支持很多的格式化代码，比如 %Y 代表 4 位数年份， %m 代表两位数月份。  \n",
    "还有一点值得注意的是这些格式化占位符也可以反过来使用，将日期输出为指定的格式字符串形式。  \n",
    "比如，假设你的代码中生成了一个 datetime 对象，你想将它格式化为漂亮易读形 式后放在自动生成的信件或者报告的顶部,`strftime`"
   ]
  },
  {
   "cell_type": "markdown",
   "metadata": {},
   "source": [
    "还有一点需要注意的是， strptime() 的性能要**比你想象中的差很多**，因为它是使 用纯 Python 实现，并且必须处理所有的系统本地设置。  \n",
    "如果你要在代码中需要解析大量的日期并且**已经知道了日期字符串的确切格式，可以自己实现一套解析方案来获取 更好的性能**。  \n",
    "比如，如果你已经知道所以日期格式是 YYYY-MM-DD ，你可以像下面这样 实现一个解析函数"
   ]
  },
  {
   "cell_type": "code",
   "execution_count": 129,
   "metadata": {},
   "outputs": [],
   "source": [
    "def parse_ymd(s):\n",
    "    year_s, mon_s, day_s = s.split('-') \n",
    "    return datetime(int(year_s), int(mon_s), int(day_s))"
   ]
  },
  {
   "cell_type": "code",
   "execution_count": 130,
   "metadata": {},
   "outputs": [
    {
     "data": {
      "text/plain": [
       "datetime.datetime(2019, 5, 14, 0, 0)"
      ]
     },
     "execution_count": 130,
     "metadata": {},
     "output_type": "execute_result"
    }
   ],
   "source": [
    "parse_ymd('2019-05-14')"
   ]
  },
  {
   "cell_type": "markdown",
   "metadata": {},
   "source": [
    "## 3.16 结合时区的日期操作\n",
    "问题:你有一个安排在 2012 年 12 月 21 日早上 9:30 的电话会议，地点在芝加哥。  \n",
    "而你的 朋友在印度的班加罗尔，那么他应该在当地时间几点参加这个会议呢？\n",
    "\n",
    "对几乎所有涉及到时区的问题，你都应该使用 `pytz `模块。这个包提供了 Olson 时 区数据库，它是时区信息的事实上的标准，在很多语言和操作系统里面都可以找到  \n",
    "pytz 模块一个主要用途是将 datetime 库创建的简单日期对象本地化。比如，下面 如何表示一个芝加哥时间的示例"
   ]
  },
  {
   "cell_type": "code",
   "execution_count": 133,
   "metadata": {},
   "outputs": [
    {
     "name": "stdout",
     "output_type": "stream",
     "text": [
      "2023-11-01 09:30:00\n"
     ]
    }
   ],
   "source": [
    "from pytz import timezone\n",
    "d = datetime(2023, 11, 1, 9, 30, 0)\n",
    "print(d)"
   ]
  },
  {
   "cell_type": "code",
   "execution_count": 136,
   "metadata": {},
   "outputs": [
    {
     "name": "stdout",
     "output_type": "stream",
     "text": [
      "2023-11-01 09:30:00-05:00\n"
     ]
    }
   ],
   "source": [
    "central = timezone('US/Central')   #Localize the date for Chicago\n",
    "loc_d = central.localize(d)\n",
    "print(loc_d)"
   ]
  },
  {
   "cell_type": "markdown",
   "metadata": {},
   "source": [
    "一旦日期被本地化了，它就可以转换为其他时区的时间了。为了得到班加罗尔对应的时间，你可以这样做"
   ]
  },
  {
   "cell_type": "code",
   "execution_count": 137,
   "metadata": {},
   "outputs": [
    {
     "name": "stdout",
     "output_type": "stream",
     "text": [
      "2023-11-01 20:00:00+05:30\n"
     ]
    }
   ],
   "source": [
    "bang_d = loc_d.astimezone(timezone('Asia/Kolkata'))\n",
    "print(bang_d)"
   ]
  },
  {
   "cell_type": "markdown",
   "metadata": {},
   "source": [
    "为了不让你被这些东东弄的晕头转向，处理本地化日期的通常的策略先将所有日期 转换为 UTC 时间，并用它来执行所有的中间存储和操作。比如"
   ]
  },
  {
   "cell_type": "code",
   "execution_count": 138,
   "metadata": {},
   "outputs": [
    {
     "name": "stdout",
     "output_type": "stream",
     "text": [
      "2023-11-01 14:30:00+00:00\n"
     ]
    }
   ],
   "source": [
    "import pytz\n",
    "utc_d = loc_d.astimezone(pytz.utc)\n",
    "print(utc_d)"
   ]
  },
  {
   "cell_type": "markdown",
   "metadata": {},
   "source": [
    "注：当你阅读到这里的时候，有可能 pytz 模块以及不再建议使用了，因为 PEP431 提出了更先进的时区支持。 但是这里谈到的很多问题还是有参考价值的 (比如使用 UTC 日期的建议等)"
   ]
  }
 ],
 "metadata": {
  "kernelspec": {
   "display_name": "Python 3",
   "language": "python",
   "name": "python3"
  },
  "language_info": {
   "codemirror_mode": {
    "name": "ipython",
    "version": 3
   },
   "file_extension": ".py",
   "mimetype": "text/x-python",
   "name": "python",
   "nbconvert_exporter": "python",
   "pygments_lexer": "ipython3",
   "version": "3.10.3"
  },
  "orig_nbformat": 4
 },
 "nbformat": 4,
 "nbformat_minor": 2
}
