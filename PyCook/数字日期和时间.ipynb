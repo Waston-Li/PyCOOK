{
 "cells": [
  {
   "attachments": {},
   "cell_type": "markdown",
   "metadata": {},
   "source": [
    "在Python中执行整数和浮点数的数学运算时很简单的。  \n",
    "尽管如此，如果你需要\n",
    "# 执行分数、数组或者是日期和时间的运算的话，就得做更多的工作了。本章集中讨论的就是这些主题。"
   ]
  },
  {
   "attachments": {},
   "cell_type": "markdown",
   "metadata": {},
   "source": [
    "## 3.1 数字的四舍五入"
   ]
  },
  {
   "attachments": {},
   "cell_type": "markdown",
   "metadata": {},
   "source": [
    "想对浮点数执行精度的舍入运算,对于简单的舍入运算使用内置的`round`函数即可"
   ]
  },
  {
   "cell_type": "code",
   "execution_count": 2,
   "metadata": {},
   "outputs": [
    {
     "name": "stdout",
     "output_type": "stream",
     "text": [
      "1.2\n"
     ]
    },
    {
     "data": {
      "text/plain": [
       "1.236"
      ]
     },
     "execution_count": 2,
     "metadata": {},
     "output_type": "execute_result"
    }
   ],
   "source": [
    "print(round(1.23, 1)) #保留1位\n",
    "round(1.23561, 3)"
   ]
  },
  {
   "attachments": {},
   "cell_type": "markdown",
   "metadata": {},
   "source": [
    "当一个值刚好在两个边界的中间的时候， round 函数返回离它最近的偶数。也就 是说，对 1.5 或者 2.5 的舍入运算都会得到 2。\n",
    "传给 round() 函数的 ndigits 参数可以是负数，这种情况下，舍入运算会作用在 十位、百位、千位等上面。比如\n",
    "```python\n",
    "a = 1627730\n",
    "round(a, -2) #1627770 ， 作用在百位上\n",
    "```"
   ]
  },
  {
   "attachments": {},
   "cell_type": "markdown",
   "metadata": {},
   "source": [
    "**不要将舍入和格式化输出搞混淆**了。如果你的目的只是简单的输出一定宽度的数， 你不需要使用 round() 函数。  \n",
    "而仅仅只需要在格式化的时候指定精度即可。比如"
   ]
  },
  {
   "cell_type": "code",
   "execution_count": 9,
   "metadata": {},
   "outputs": [
    {
     "name": "stdout",
     "output_type": "stream",
     "text": [
      "1.23\n"
     ]
    },
    {
     "data": {
      "text/plain": [
       "'value is 1.235'"
      ]
     },
     "execution_count": 9,
     "metadata": {},
     "output_type": "execute_result"
    }
   ],
   "source": [
    "x = 1.23456\n",
    "print(format(x, '0.2f')) #保留2位\n",
    "'value is {:0.3f}'.format(x)  #冒号后面的.f表示将该参数格式化为浮点数，并保留f位小数"
   ]
  },
  {
   "attachments": {},
   "cell_type": "markdown",
   "metadata": {},
   "source": [
    "同样，不要试着去舍入浮点值来” 修正” 表面上看起来正确的问题。比如，你可能 倾向于这样做："
   ]
  },
  {
   "cell_type": "code",
   "execution_count": 12,
   "metadata": {},
   "outputs": [
    {
     "name": "stdout",
     "output_type": "stream",
     "text": [
      "6.300000000000001\n"
     ]
    },
    {
     "data": {
      "text/plain": [
       "6.3"
      ]
     },
     "execution_count": 12,
     "metadata": {},
     "output_type": "execute_result"
    }
   ],
   "source": [
    "a = 2.1 \n",
    "b = 4.2\n",
    "c = a+b\n",
    "print(c)\n",
    "c = round(c, 2) #企图修复\n",
    "c"
   ]
  },
  {
   "attachments": {},
   "cell_type": "markdown",
   "metadata": {},
   "source": [
    "对于大多数使用到浮点的程序，没有必要也不推荐这样做。  \n",
    "尽管在计算的时候会有 一点点小的误差，但是这些小的误差是能被理解与容忍的。如果不能允许这样的小误 差 (比如涉及到金融领域)，  \n",
    "那么就得考虑使用 decimal 模块了，下一节我们会详细讨 论。"
   ]
  },
  {
   "attachments": {},
   "cell_type": "markdown",
   "metadata": {},
   "source": [
    "## 3.2执行精确的浮点数运算"
   ]
  },
  {
   "attachments": {},
   "cell_type": "markdown",
   "metadata": {},
   "source": [
    "需要对浮点数执行精确的计算操作，并且不希望有任何小误差的出现  \n",
    "浮点数的一个普遍问题是它们并不能精确的表示十进制数。并且，即使是最简单的 数学运算也会产生小的误差，比如上述`a+b == 6.3 会返回False`"
   ]
  },
  {
   "attachments": {},
   "cell_type": "markdown",
   "metadata": {},
   "source": [
    "这些错误是由底层 CPU 和 IEEE 754 标准通过自己的浮点单位去执行算术时的特征。  \n",
    "由于 Python 的浮点数据类型使用底层表示存储数据，因此你没办法去避免这样的误差。  \n",
    "如果你想更加精确 (并能容忍一定的性能损耗)，你可以使用 decimal 模块："
   ]
  },
  {
   "cell_type": "code",
   "execution_count": 14,
   "metadata": {},
   "outputs": [
    {
     "data": {
      "text/plain": [
       "Decimal('6.3')"
      ]
     },
     "execution_count": 14,
     "metadata": {},
     "output_type": "execute_result"
    }
   ],
   "source": [
    "from decimal import Decimal\n",
    "a = Decimal('2.1')\n",
    "b = Decimal('4.2')\n",
    "a+b"
   ]
  },
  {
   "attachments": {},
   "cell_type": "markdown",
   "metadata": {},
   "source": [
    "初看起来， 上面的代码好像有点奇怪，比如我们用字符串来表示数字。然而 Decimal 对象会像普通浮点数一样的工作 (支持所有的常用数学运算)。  \n",
    "如果你打印它们或者在字符串格式化函数中使用它们，看起来跟普通数字没什么两样。  \n",
    "decimal模块的一个主要特征是允许你控制计算的每一方面，包括数字位数和四舍五入运算。为了这样做，你先得创建一个本地上下文并更改它的设置，比如："
   ]
  },
  {
   "cell_type": "code",
   "execution_count": 15,
   "metadata": {},
   "outputs": [
    {
     "name": "stdout",
     "output_type": "stream",
     "text": [
      "0.7647058823529411764705882353\n"
     ]
    }
   ],
   "source": [
    "a = Decimal('1.3')\n",
    "b = Decimal('1.7')\n",
    "print( a / b)"
   ]
  },
  {
   "cell_type": "code",
   "execution_count": 17,
   "metadata": {},
   "outputs": [
    {
     "name": "stdout",
     "output_type": "stream",
     "text": [
      "0.765\n"
     ]
    }
   ],
   "source": [
    "from decimal import localcontext\n",
    "with localcontext() as ctx: \n",
    "    ctx.prec = 3 # 四舍五入 保留3位\n",
    "    print(a / b)"
   ]
  },
  {
   "attachments": {},
   "cell_type": "markdown",
   "metadata": {},
   "source": [
    "decimal 模块实现了 IBM 的” 通用小数运算规范”。不用说，有很多的配置选项这 本书没有提到。\n",
    "\n",
    "Python 新手会倾向于使用 decimal 模块来处理浮点数的精确运算。然而，先理解 你的应用程序目的是非常重要的。如果你是在做科学计算或工程领域的计算、电脑绘 图，或者是科学领域的大多数运算，那么使用普通的浮点类型是比较普遍的做法。其 中一个原因是， **在真实世界中很少会要求精确到普通浮点数能提供的 17 位精度**。 因 此，计算过程中的那么一点点的误差是被允许的。第二点就是，原生的浮点数计算要 快的多 有时候你在执行大量运算的时候速度也是非常重要的。\n",
    "\n",
    "即便如此，你却不能完全忽略误差。数学家花了大量时间去研究各类算法，有些处 理误差会比其他方法更好。你也得注意下减法删除 已经大数和小数的加分运算所带来 的影响。比如："
   ]
  },
  {
   "cell_type": "code",
   "execution_count": 18,
   "metadata": {},
   "outputs": [
    {
     "data": {
      "text/plain": [
       "0.0"
      ]
     },
     "execution_count": 18,
     "metadata": {},
     "output_type": "execute_result"
    }
   ],
   "source": [
    "nums = [1.23e+18, 1, -1.23e+18]\n",
    "sum(nums) # Notice how 1 disappears  ？？"
   ]
  },
  {
   "attachments": {},
   "cell_type": "markdown",
   "metadata": {},
   "source": [
    "上面的错误可以利用 math.fsum() 所提供的更精确计算能力来解决："
   ]
  },
  {
   "cell_type": "code",
   "execution_count": 19,
   "metadata": {},
   "outputs": [
    {
     "data": {
      "text/plain": [
       "1.0"
      ]
     },
     "execution_count": 19,
     "metadata": {},
     "output_type": "execute_result"
    }
   ],
   "source": [
    "import math\n",
    "math.fsum(nums)"
   ]
  },
  {
   "attachments": {},
   "cell_type": "markdown",
   "metadata": {},
   "source": [
    "然而，对于其他的算法，你应该仔细研究它并理解它的误差产生来源。  \n",
    "总的来说， decimal 模块主要用在涉及到金融的领域。在这类程序中，哪怕是一点小小的误差在计算过程中蔓延都是不允许的。  \n",
    "因此， decimal 模块为解决这类问题提供了方法。当 Python 和数据库打交道的时候也通常会遇到 Decimal 对象，并且，通常也是在处理金融数据的时候"
   ]
  },
  {
   "attachments": {},
   "cell_type": "markdown",
   "metadata": {},
   "source": [
    "## 3.3数字的格式化输出\n",
    "问题：你需要将数字格式化后输出， 并控制数字的位数、对齐、千位分隔符和其他的细节。\n",
    "格式化输出单个数字的时候，可以使用内置的`format`"
   ]
  },
  {
   "attachments": {},
   "cell_type": "markdown",
   "metadata": {},
   "source": [
    "x = 1234.56789\n",
    "```python\n",
    "# Two decimal places of accuracy\n",
    "format(x, '0.2f')  #'1234.57'\n",
    "\n",
    "# Right justified in 10 chars, one-digit accuracy\n",
    "\n",
    "format(x, '>10.1f') #' 1234.6'\n",
    "\n",
    "# Left justified\n",
    "\n",
    "format(x, '<10.1f') #'1234.6 '\n",
    "\n",
    " # Centered\n",
    "\n",
    "format(x, '^10.1f') #' 1234.6 '\n",
    "\n",
    " # Inclusion of thousands separator 包含千位分隔符\n",
    "\n",
    "format(x, ',') #'1,234.56789'\n",
    "\n",
    "format(x, '0,.1f') #'1,234.6'\n",
    "```"
   ]
  },
  {
   "attachments": {},
   "cell_type": "markdown",
   "metadata": {},
   "source": [
    "如果你想使用指数记法，将 f 改成 e 或者 E(取决于指数输出的大小写形式)。比如：\n",
    "\n",
    "format(x, 'e')    #'1.234568e+03'  \n",
    "format(x, '0.2E')  #'1.23E+03'  \n",
    "同时指定宽度和精度的一般形式是 '[<>ˆ]?width[,]?(.digits)?' ，其中 width 和 digits 为整数，  \n",
    "？代表可选部分。同样的格式也被用在字符串的 format() 方法中。 比如：  \n",
    "`The value is {:0,.2f}'.format(x)`   # 'The value is 1,234.57'"
   ]
  },
  {
   "attachments": {},
   "cell_type": "markdown",
   "metadata": {},
   "source": [
    "## 3.4 二 八 十六进制整数\n",
    "问题：你需要转换或者输出使用二进制，八进制或十六进制表示的整数。  \n",
    "解决方案：为了将整数转换为二进制、八进制或十六进制的文本串，可以分别使用 `bin()` , `oct()` 或 `hex()` 函数："
   ]
  },
  {
   "cell_type": "code",
   "execution_count": 20,
   "metadata": {},
   "outputs": [
    {
     "name": "stdout",
     "output_type": "stream",
     "text": [
      "0b10001\n",
      "0o21\n",
      "0x11\n"
     ]
    }
   ],
   "source": [
    "x = 17\n",
    "print(bin(x))  #不想要0b之类的前缀 可以使用format函数，如 format(x, 'b')\n",
    "print(oct(x))\n",
    "print(hex(x))"
   ]
  },
  {
   "attachments": {},
   "cell_type": "markdown",
   "metadata": {},
   "source": [
    "整数是有符号的，所以如果你在处理负数的话，输出结果会包含一个负号。  \n",
    "如果你想产生一个无符号值，你需要增加一个指示最大位长度的值。比如为了显示 32 位的值，可以像下面这样写："
   ]
  },
  {
   "cell_type": "code",
   "execution_count": 21,
   "metadata": {},
   "outputs": [
    {
     "data": {
      "text/plain": [
       "'11111111111111111111101100101110'"
      ]
     },
     "execution_count": 21,
     "metadata": {},
     "output_type": "execute_result"
    }
   ],
   "source": [
    "x = -1234\n",
    "format(2**32 + x, 'b')"
   ]
  },
  {
   "attachments": {},
   "cell_type": "markdown",
   "metadata": {},
   "source": [
    "为了以不同的**进制 转换 整数字符串**，简单的使用带有进制的 int() 函数即可："
   ]
  },
  {
   "cell_type": "code",
   "execution_count": 24,
   "metadata": {},
   "outputs": [
    {
     "data": {
      "text/plain": [
       "1234"
      ]
     },
     "execution_count": 24,
     "metadata": {},
     "output_type": "execute_result"
    }
   ],
   "source": [
    "int('10011010010', 2)"
   ]
  },
  {
   "attachments": {},
   "cell_type": "markdown",
   "metadata": {},
   "source": [
    "大多数情况下处理二进制、八进制和十六进制整数是很简单的。只要记住这些转换 属于整数和其对应的文本表示之间的转换即可。永远只有一种整数类型  \n",
    "最后，使用八进制的程序员有一点需要注意下。Python 指定八进制数的语法跟其 他语言稍有不同, `os.chmod('xxx.sh', 0o755)`  八进制的前缀是0o"
   ]
  },
  {
   "attachments": {},
   "cell_type": "markdown",
   "metadata": {},
   "source": [
    "## 3.5字节到大整数的打包与解包  \n",
    "问题:你有一个字节字符串并想将它解压成一个整数。或者，你需要将一个大整数转换为 一个字节字符串。  \n",
    "假设你的程序需要处理一个拥有 128 位长的 16 个元素的字节字符串。比如："
   ]
  },
  {
   "cell_type": "code",
   "execution_count": 29,
   "metadata": {},
   "outputs": [
    {
     "name": "stdout",
     "output_type": "stream",
     "text": [
      "16\n"
     ]
    }
   ],
   "source": [
    "xdata = b'\\x00\\x124V\\x00x\\x90\\xab\\x00\\xcd\\xef\\x01\\x00#\\x004' # \\x 值为16位16进制的字符\n",
    "print(len(xdata))"
   ]
  },
  {
   "attachments": {},
   "cell_type": "markdown",
   "metadata": {},
   "source": [
    "为了将 bytes 解析为整数，使用 int.from bytes() 方法，并像下面这样指定字节 顺序"
   ]
  },
  {
   "cell_type": "code",
   "execution_count": 30,
   "metadata": {},
   "outputs": [
    {
     "name": "stdout",
     "output_type": "stream",
     "text": [
      "69120565665751139577663547927094891008\n",
      "94522842520747284487117727783387188\n"
     ]
    }
   ],
   "source": [
    "print(int.from_bytes(xdata, 'little'))\n",
    "print(int.from_bytes(xdata, 'big'))"
   ]
  },
  {
   "attachments": {},
   "cell_type": "markdown",
   "metadata": {},
   "source": [
    "为了将一个大整数转换为一个字节字符串，使用 int.to bytes() 方法，并像下面 这样指定字节数和字节顺序：\n"
   ]
  },
  {
   "cell_type": "code",
   "execution_count": 31,
   "metadata": {},
   "outputs": [
    {
     "data": {
      "text/plain": [
       "b'\\x00\\x124V\\x00x\\x90\\xab\\x00\\xcd\\xef\\x01\\x00#\\x004'"
      ]
     },
     "execution_count": 31,
     "metadata": {},
     "output_type": "execute_result"
    }
   ],
   "source": [
    "x = 94522842520747284487117727783387188\n",
    "x.to_bytes(16, 'big')"
   ]
  },
  {
   "attachments": {},
   "cell_type": "markdown",
   "metadata": {},
   "source": [
    "大整数和字节字符串之间的转换操作并不常见。然而，在一些应用领域有时候也会 出现，比如密码学或者`网络`。例如，`IPv6 网络地址使用一个 128 位的整数表示。如果 你要从一个数据记录中提取这样的值的时候`，你就会面对这样的问题。  \n",
    "作为一种替代方案，你可能想使用 6.11 小节中所介绍的 struct 模块来解压字节。 这样也行得通，不过利用 struct 模块来解压对于整数的大小是有限制的。因此，你可 能想解压多个字节串并将结果合并为最终的结果，就像下面这样："
   ]
  },
  {
   "cell_type": "code",
   "execution_count": 32,
   "metadata": {},
   "outputs": [
    {
     "data": {
      "text/plain": [
       "94522842520747284487117727783387188"
      ]
     },
     "execution_count": 32,
     "metadata": {},
     "output_type": "execute_result"
    }
   ],
   "source": [
    "import struct\n",
    "hi, lo = struct.unpack('>QQ', xdata)\n",
    "(hi << 64) + lo"
   ]
  },
  {
   "attachments": {},
   "cell_type": "markdown",
   "metadata": {},
   "source": []
  },
  {
   "attachments": {},
   "cell_type": "markdown",
   "metadata": {},
   "source": [
    "字节顺序规则 (little 或 big) 仅仅指定了构建整数时的字节的低位高位排列方式。  \n",
    " 我们从下面精心构造的 16 进制数的表示中可以很容易的看出来："
   ]
  },
  {
   "cell_type": "code",
   "execution_count": 34,
   "metadata": {},
   "outputs": [
    {
     "name": "stdout",
     "output_type": "stream",
     "text": [
      "b'\\x01\\x02\\x03\\x04'\n",
      "b'\\x04\\x03\\x02\\x01'\n"
     ]
    }
   ],
   "source": [
    "x = 0x01020304\n",
    "print(x.to_bytes(4, 'big'))\n",
    "print(x.to_bytes(4, 'little'))"
   ]
  },
  {
   "attachments": {},
   "cell_type": "markdown",
   "metadata": {},
   "source": [
    "如果你试着将一个整数打包为字节字符串， 那么它就不合适了， 你会得到一个错 误。  \n",
    "如果需要的话，你可以使用 int.bit length() 方法来决定需要多少字节位来存储 这个值。"
   ]
  },
  {
   "attachments": {},
   "cell_type": "markdown",
   "metadata": {},
   "source": [
    "## 3.6 复数的数学运算\n",
    "问题：你写的最新的网络认证方案代码遇到了一个难题，并且你唯一的解决办法就是使用复数空间。  \n",
    "再或者是你仅仅需要使用复数来执行一些计算操作。  \n",
    "复数可以用使用函数 complex(real, imag)或者是带有后缀j的浮点数来指定。 "
   ]
  },
  {
   "cell_type": "code",
   "execution_count": 36,
   "metadata": {},
   "outputs": [
    {
     "name": "stdout",
     "output_type": "stream",
     "text": [
      "(2+4j) (3-5j)\n"
     ]
    }
   ],
   "source": [
    "a = complex(2, 4)\n",
    "b = 3 - 5j\n",
    "print(a, b)"
   ]
  },
  {
   "attachments": {},
   "cell_type": "markdown",
   "metadata": {},
   "source": [
    "对应的实部、虚部和共轭复数可以很容易的获取。就像下面这样："
   ]
  },
  {
   "cell_type": "code",
   "execution_count": 38,
   "metadata": {},
   "outputs": [
    {
     "name": "stdout",
     "output_type": "stream",
     "text": [
      "2.0 4.0\n"
     ]
    },
    {
     "data": {
      "text/plain": [
       "(2-4j)"
      ]
     },
     "execution_count": 38,
     "metadata": {},
     "output_type": "execute_result"
    }
   ],
   "source": [
    "print(a.real, a.imag)\n",
    "a.conjugate()"
   ]
  }
 ],
 "metadata": {
  "kernelspec": {
   "display_name": "Python 3",
   "language": "python",
   "name": "python3"
  },
  "language_info": {
   "codemirror_mode": {
    "name": "ipython",
    "version": 3
   },
   "file_extension": ".py",
   "mimetype": "text/x-python",
   "name": "python",
   "nbconvert_exporter": "python",
   "pygments_lexer": "ipython3",
   "version": "3.10.3"
  },
  "orig_nbformat": 4
 },
 "nbformat": 4,
 "nbformat_minor": 2
}
